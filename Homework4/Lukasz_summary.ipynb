{
 "cells": [
  {
   "cell_type": "markdown",
   "id": "e860dbac-a204-4f3e-abb0-2e5e35a93bad",
   "metadata": {},
   "source": [
    "# **1000-719bMSB Modeling of Complex Biological Systems**\n",
    "# **Deep Neural Network: Supervised Learning**\n",
    "\n",
    "## Homework - Krzysztof Łukasz - SUMMARY\n"
   ]
  },
  {
   "cell_type": "markdown",
   "id": "6bee4912-3848-4318-b34a-81e716d1f327",
   "metadata": {},
   "source": [
    "# TENSORFLOW"
   ]
  },
  {
   "cell_type": "markdown",
   "id": "fecb40fc-57e0-440c-b93a-63e0453e5bb5",
   "metadata": {},
   "source": [
    "## 1.1 Densly connected"
   ]
  },
  {
   "cell_type": "markdown",
   "id": "53222491-422f-426c-be36-580ea0a3dedf",
   "metadata": {},
   "source": [
    "Architecture of the model:"
   ]
  },
  {
   "cell_type": "code",
   "execution_count": null,
   "id": "1236d195-e36f-433c-93f4-6b2c0d518235",
   "metadata": {},
   "outputs": [],
   "source": [
    "model = models.Sequential()\n",
    "model.add(layers.Dense(512, activation='relu', input_shape=(28 * 28,)))\n",
    "model.add(layers.Dense(10, activation='softmax'))\n",
    "model.compile(optimizer='rmsprop',\n",
    "loss='mean_squared_error',\n",
    "metrics=['accuracy'])"
   ]
  },
  {
   "cell_type": "markdown",
   "id": "f4a3092b-a026-4a6c-9f0c-5e80ba147e90",
   "metadata": {},
   "source": [
    "Training accuracy: \n",
    "\n",
    "    - 0.8906\n",
    "    \n",
    "Test accuracy:\n",
    "\n",
    "    - 0.8553"
   ]
  },
  {
   "cell_type": "markdown",
   "id": "a41f7986-75f7-4924-a1c2-6e182cafb19f",
   "metadata": {},
   "source": [
    "## 1.2 Convolutional"
   ]
  },
  {
   "cell_type": "markdown",
   "id": "def821fd-9a7e-43e9-be6c-a8a8c5f5138f",
   "metadata": {},
   "source": [
    "Architecture of the model:"
   ]
  },
  {
   "cell_type": "code",
   "execution_count": null,
   "id": "29917f69-fc2c-4b0c-88c1-16fdef22f96c",
   "metadata": {},
   "outputs": [],
   "source": [
    "model2 = models.Sequential()\n",
    "model2.add(layers.Conv2D(32, (3, 3), activation='relu', input_shape=(28, 28, 1)))\n",
    "model2.add(layers.MaxPooling2D((2, 2)))\n",
    "model2.add(layers.Conv2D(64, (3, 3), activation='relu'))\n",
    "model2.add(layers.MaxPooling2D((2, 2)))\n",
    "model2.add(layers.Conv2D(64, (3, 3), activation='relu'))\n",
    "model2.add(layers.Flatten())\n",
    "model2.add(layers.Dense(64, activation='relu'))\n",
    "model2.add(layers.Dense(10, activation='softmax'))"
   ]
  },
  {
   "cell_type": "markdown",
   "id": "4ef33b41-c589-472f-a215-3e82d2ffa798",
   "metadata": {},
   "source": [
    "Training accuracy: \n",
    "\n",
    "    - 0.9580\n",
    "    \n",
    "Test accuracy:\n",
    "\n",
    "    - 0.9112"
   ]
  },
  {
   "cell_type": "markdown",
   "id": "c8942b75-73b1-4cfb-b772-4c430bcc9c4b",
   "metadata": {},
   "source": [
    "## 1.3 Improved"
   ]
  },
  {
   "cell_type": "markdown",
   "id": "89fafdc3-dd46-440e-803f-28b3d7c940e0",
   "metadata": {},
   "source": [
    "Architecture of the model:"
   ]
  },
  {
   "cell_type": "code",
   "execution_count": null,
   "id": "24e8aa09-92d5-46b9-8da0-dca51c1dfa83",
   "metadata": {},
   "outputs": [],
   "source": [
    "better_model = models.Sequential()\n",
    "\n",
    "better_model.add(Conv2D(32, 3, padding='same', activation='relu',kernel_initializer='he_normal', input_shape=(28,28, 1)))\n",
    "better_model.add(tf.keras.layers.MaxPooling2D(pool_size=(2, 2)))\n",
    "\n",
    "\n",
    "better_model.add(Conv2D(64, 3, padding='same', activation='relu'))\n",
    "better_model.add(tf.keras.layers.MaxPooling2D(pool_size=(2, 2)))\n",
    "\n",
    "better_model.add(Dropout(0.3))\n",
    "better_model.add(BatchNormalization())\n",
    "better_model.add(Conv2D(128, 3, padding='same', activation='relu'))\n",
    "better_model.add(Conv2D(128, 3, padding='same', activation='relu'))\n",
    "better_model.add(tf.keras.layers.MaxPooling2D(pool_size=(2, 2)))\n",
    "\n",
    "better_model.add(Dropout(0.2))\n",
    "better_model.add(Flatten())\n",
    "better_model.add(BatchNormalization())\n",
    "better_model.add(Dense(512, activation='relu'))\n",
    "\n",
    "better_model.add(Dropout(0.25))\n",
    "better_model.add(Dense(10, activation='softmax'))"
   ]
  },
  {
   "cell_type": "markdown",
   "id": "f686392a-f385-4a7d-90e0-bc9e5ffee021",
   "metadata": {},
   "source": [
    "Training accuracy: \n",
    "\n",
    "    -  0.95018333\n",
    "    \n",
    "Test accuracy:\n",
    "\n",
    "    - 0.9224"
   ]
  },
  {
   "cell_type": "markdown",
   "id": "f6c01635-4342-40d1-be84-aec3e38af7cd",
   "metadata": {},
   "source": [
    "# PyTORCH"
   ]
  },
  {
   "cell_type": "markdown",
   "id": "fb706296-2f7e-46bf-9bad-dd150bc2560f",
   "metadata": {},
   "source": [
    "## 1.1 Dense"
   ]
  },
  {
   "cell_type": "markdown",
   "id": "5db80dce-9d74-481f-b1fc-9bd580e4f0d0",
   "metadata": {},
   "source": [
    "Architecture of the model:"
   ]
  },
  {
   "cell_type": "code",
   "execution_count": null,
   "id": "c8928c30-9035-41e0-bd4e-1bb28305cec5",
   "metadata": {},
   "outputs": [],
   "source": [
    "class MnistModel(nn.Module):\n",
    "    def __init__(self):\n",
    "        super().__init__()\n",
    "        self.linear = nn.Linear(input_size, num_classes)\n",
    "\n",
    "    def forward(self, xb):\n",
    "        # view xb with two dimensions, 28 * 28(i.e 784)\n",
    "        # One argument to .reshape can be set to -1(in this case the first dimension),\n",
    "        # to let PyTorch figure it out automatically based on the shape of the original tensor.\n",
    "        xb = xb.reshape(-1, 784)\n",
    "        print(xb)\n",
    "        out = self.linear(xb)\n",
    "        print(out)\n",
    "        return(out)\n",
    "\n",
    "model = MnistModel()"
   ]
  },
  {
   "cell_type": "markdown",
   "id": "0d08d87b-088f-417f-ba16-217a3a130f49",
   "metadata": {},
   "source": [
    "Training accuracy: \n",
    "\n",
    "    - 0.7182\n",
    "    \n",
    "Test accuracy:\n",
    "\n",
    "    - 0.709179\n",
    "    "
   ]
  },
  {
   "cell_type": "markdown",
   "id": "a771257a-4003-4d4a-9faa-15f5262d823e",
   "metadata": {},
   "source": [
    "## 1.2 Convolutional"
   ]
  },
  {
   "cell_type": "markdown",
   "id": "dcef725d-5a5e-4c54-a0e6-a1ba8beadd59",
   "metadata": {},
   "source": [
    "Architecture of the model:"
   ]
  },
  {
   "cell_type": "code",
   "execution_count": null,
   "id": "36aaba74-3387-482d-be90-093d87d24b1f",
   "metadata": {},
   "outputs": [],
   "source": [
    "# We construct a fundamental CNN class.\n",
    "class CNN(nn.Module):\n",
    "    def __init__(self):\n",
    "        super(CNN, self).__init__()\n",
    "        self.conv1 = nn.Sequential(\n",
    "            nn.Conv2d(\n",
    "                in_channels=1,\n",
    "                out_channels=16,\n",
    "                kernel_size=5,\n",
    "                stride=1,\n",
    "                padding=2,\n",
    "            ),\n",
    "            nn.ReLU(),\n",
    "            nn.MaxPool2d(kernel_size=2),\n",
    "        )\n",
    "        self.conv2 = nn.Sequential(\n",
    "            nn.Conv2d(16, 32, 5, 1, 2),\n",
    "            nn.ReLU(),\n",
    "            nn.MaxPool2d(2),\n",
    "        )\n",
    "        # fully connected layer, output 10 classes\n",
    "        self.out = nn.Linear(32 * 7 * 7, 10)\n",
    "    def forward(self, x):\n",
    "        x = self.conv1(x)\n",
    "        x = self.conv2(x)\n",
    "        # flatten the output of conv2 to (batch_size, 32 * 7 * 7)\n",
    "        x = x.view(x.size(0), -1)\n",
    "        output = self.out(x)\n",
    "        return output, x    # return x for visualization\n",
    "\n",
    "cnn = CNN()\n",
    "loss_func = nn.CrossEntropyLoss()\n",
    "loss_func\n",
    "\n",
    "# unlike earlier example using optim.SGD, we use optim.Adam as the optimizer\n",
    "# lr(Learning Rate): Rate at which our model updates the weights in the cells each time back-propagation is done.\n",
    "optimizer = optim.Adam(cnn.parameters(), lr = 0.01)\n",
    "optimizer"
   ]
  },
  {
   "cell_type": "markdown",
   "id": "8645e3d8-c9ee-476e-93bb-753cff7ff4f5",
   "metadata": {},
   "source": [
    "###### Training accuracy: \n",
    "\n",
    "    -  0.89\n",
    "\n",
    "    \n",
    "Test accuracy:\n",
    "\n",
    "    - 0.88\n",
    "    "
   ]
  },
  {
   "cell_type": "markdown",
   "id": "1c03b271-2f6e-4279-be92-f2dd1f0f09cc",
   "metadata": {},
   "source": [
    "## 1.3 Improved"
   ]
  },
  {
   "cell_type": "markdown",
   "id": "c9788e8e-3063-41b0-9251-4a8248013150",
   "metadata": {},
   "source": [
    "Architecture of the model:"
   ]
  },
  {
   "cell_type": "code",
   "execution_count": null,
   "id": "9c10f310-71ae-4d5c-bd70-c6000f616710",
   "metadata": {},
   "outputs": [],
   "source": [
    "# We construct a fundamental CNN class.\n",
    "class CNN(nn.Module):\n",
    "    def __init__(self):\n",
    "        super(CNN, self).__init__()\n",
    "        self.conv1 = nn.Sequential(\n",
    "            nn.Conv2d(\n",
    "                in_channels=1,\n",
    "                out_channels=32,\n",
    "                kernel_size=5,\n",
    "                stride=1,\n",
    "                padding=2,\n",
    "            ),\n",
    "            nn.BatchNorm2d(32),\n",
    "\n",
    "            nn.ReLU(),\n",
    "            nn.MaxPool2d(kernel_size=2),\n",
    "\n",
    "        )\n",
    "        self.conv2 = nn.Sequential(\n",
    "            nn.Conv2d(32, 64, 5, 1, 2),\n",
    "            nn.ReLU(),\n",
    "            nn.MaxPool2d(2),\n",
    "            nn.Dropout2d(p=0.2),\n",
    "        )\n",
    "\n",
    "        self.conv3 = nn.Sequential(\n",
    "            nn.Conv2d(64, 128, 3, 1, 1),\n",
    "            nn.ReLU(),\n",
    "            nn.MaxPool2d(2),\n",
    "        )\n",
    "\n",
    "        # Adjust the input size of the fully connected layer\n",
    "        self.out = nn.Linear(128  * 3 * 3, 10)  # 3x3 is the output size after conv3\n",
    "\n",
    "    def forward(self, x):\n",
    "        x = self.conv1(x)\n",
    "        x = self.conv2(x)\n",
    "        x = self.conv3(x)  # Pass through the new layer\n",
    "        x = x.view(x.size(0), -1)\n",
    "        output = self.out(x)\n",
    "        return output, x\n",
    "cnn = CNN()\n",
    "\n",
    "###\n",
    "optimizer = optim.Adam(cnn.parameters(), lr = 0.001)\n",
    "\n",
    "###\n",
    "train(num_epochs=15, cnn=cnn, loaders=train_loader)"
   ]
  },
  {
   "cell_type": "markdown",
   "id": "8d72df41-3cc0-46d5-acf2-33cc487c4d7e",
   "metadata": {},
   "source": [
    "###### Training accuracy: \n",
    "\n",
    "    -  0.96\n",
    "\n",
    "    \n",
    "Test accuracy:\n",
    "\n",
    "    - 0.94\n",
    "    "
   ]
  },
  {
   "cell_type": "code",
   "execution_count": null,
   "id": "d1c4fb05-2945-4e3a-86e3-dcc8383feb1d",
   "metadata": {},
   "outputs": [],
   "source": []
  }
 ],
 "metadata": {
  "kernelspec": {
   "display_name": "Python 3 (ipykernel)",
   "language": "python",
   "name": "python3"
  },
  "language_info": {
   "codemirror_mode": {
    "name": "ipython",
    "version": 3
   },
   "file_extension": ".py",
   "mimetype": "text/x-python",
   "name": "python",
   "nbconvert_exporter": "python",
   "pygments_lexer": "ipython3",
   "version": "3.11.7"
  }
 },
 "nbformat": 4,
 "nbformat_minor": 5
}
